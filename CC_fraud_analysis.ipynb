{
 "cells": [
  {
   "cell_type": "code",
   "execution_count": 1,
   "metadata": {
    "collapsed": false
   },
   "outputs": [],
   "source": [
    "import numpy as np\n",
    "import pandas as pd\n",
    "from sklearn.model_selection import train_test_split, RandomizedSearchCV\n",
    "from sklearn.ensemble import RandomForestClassifier\n",
    "from sklearn.naive_bayes import GaussianNB\n",
    "from sklearn.neighbors import KNeighborsClassifier\n",
    "from sklearn.linear_model import LogisticRegression\n",
    "from sklearn.metrics import precision_score, recall_score\n",
    "from sklearn.decomposition import PCA\n",
    "import matplotlib.pyplot as plt\n",
    "from time import time\n",
    "%matplotlib inline"
   ]
  },
  {
   "cell_type": "code",
   "execution_count": 2,
   "metadata": {
    "collapsed": false
   },
   "outputs": [
    {
     "data": {
      "text/html": [
       "<div>\n",
       "<table border=\"1\" class=\"dataframe\">\n",
       "  <thead>\n",
       "    <tr style=\"text-align: right;\">\n",
       "      <th></th>\n",
       "      <th>Time</th>\n",
       "      <th>V1</th>\n",
       "      <th>V2</th>\n",
       "      <th>V3</th>\n",
       "      <th>V4</th>\n",
       "      <th>V5</th>\n",
       "      <th>V6</th>\n",
       "      <th>V7</th>\n",
       "      <th>V8</th>\n",
       "      <th>V9</th>\n",
       "      <th>...</th>\n",
       "      <th>V21</th>\n",
       "      <th>V22</th>\n",
       "      <th>V23</th>\n",
       "      <th>V24</th>\n",
       "      <th>V25</th>\n",
       "      <th>V26</th>\n",
       "      <th>V27</th>\n",
       "      <th>V28</th>\n",
       "      <th>Amount</th>\n",
       "      <th>Class</th>\n",
       "    </tr>\n",
       "  </thead>\n",
       "  <tbody>\n",
       "    <tr>\n",
       "      <th>0</th>\n",
       "      <td>0</td>\n",
       "      <td>-1.359807</td>\n",
       "      <td>-0.072781</td>\n",
       "      <td>2.536347</td>\n",
       "      <td>1.378155</td>\n",
       "      <td>-0.338321</td>\n",
       "      <td>0.462388</td>\n",
       "      <td>0.239599</td>\n",
       "      <td>0.098698</td>\n",
       "      <td>0.363787</td>\n",
       "      <td>...</td>\n",
       "      <td>-0.018307</td>\n",
       "      <td>0.277838</td>\n",
       "      <td>-0.110474</td>\n",
       "      <td>0.066928</td>\n",
       "      <td>0.128539</td>\n",
       "      <td>-0.189115</td>\n",
       "      <td>0.133558</td>\n",
       "      <td>-0.021053</td>\n",
       "      <td>149.62</td>\n",
       "      <td>0</td>\n",
       "    </tr>\n",
       "    <tr>\n",
       "      <th>1</th>\n",
       "      <td>0</td>\n",
       "      <td>1.191857</td>\n",
       "      <td>0.266151</td>\n",
       "      <td>0.166480</td>\n",
       "      <td>0.448154</td>\n",
       "      <td>0.060018</td>\n",
       "      <td>-0.082361</td>\n",
       "      <td>-0.078803</td>\n",
       "      <td>0.085102</td>\n",
       "      <td>-0.255425</td>\n",
       "      <td>...</td>\n",
       "      <td>-0.225775</td>\n",
       "      <td>-0.638672</td>\n",
       "      <td>0.101288</td>\n",
       "      <td>-0.339846</td>\n",
       "      <td>0.167170</td>\n",
       "      <td>0.125895</td>\n",
       "      <td>-0.008983</td>\n",
       "      <td>0.014724</td>\n",
       "      <td>2.69</td>\n",
       "      <td>0</td>\n",
       "    </tr>\n",
       "    <tr>\n",
       "      <th>2</th>\n",
       "      <td>1</td>\n",
       "      <td>-1.358354</td>\n",
       "      <td>-1.340163</td>\n",
       "      <td>1.773209</td>\n",
       "      <td>0.379780</td>\n",
       "      <td>-0.503198</td>\n",
       "      <td>1.800499</td>\n",
       "      <td>0.791461</td>\n",
       "      <td>0.247676</td>\n",
       "      <td>-1.514654</td>\n",
       "      <td>...</td>\n",
       "      <td>0.247998</td>\n",
       "      <td>0.771679</td>\n",
       "      <td>0.909412</td>\n",
       "      <td>-0.689281</td>\n",
       "      <td>-0.327642</td>\n",
       "      <td>-0.139097</td>\n",
       "      <td>-0.055353</td>\n",
       "      <td>-0.059752</td>\n",
       "      <td>378.66</td>\n",
       "      <td>0</td>\n",
       "    </tr>\n",
       "    <tr>\n",
       "      <th>3</th>\n",
       "      <td>1</td>\n",
       "      <td>-0.966272</td>\n",
       "      <td>-0.185226</td>\n",
       "      <td>1.792993</td>\n",
       "      <td>-0.863291</td>\n",
       "      <td>-0.010309</td>\n",
       "      <td>1.247203</td>\n",
       "      <td>0.237609</td>\n",
       "      <td>0.377436</td>\n",
       "      <td>-1.387024</td>\n",
       "      <td>...</td>\n",
       "      <td>-0.108300</td>\n",
       "      <td>0.005274</td>\n",
       "      <td>-0.190321</td>\n",
       "      <td>-1.175575</td>\n",
       "      <td>0.647376</td>\n",
       "      <td>-0.221929</td>\n",
       "      <td>0.062723</td>\n",
       "      <td>0.061458</td>\n",
       "      <td>123.50</td>\n",
       "      <td>0</td>\n",
       "    </tr>\n",
       "    <tr>\n",
       "      <th>4</th>\n",
       "      <td>2</td>\n",
       "      <td>-1.158233</td>\n",
       "      <td>0.877737</td>\n",
       "      <td>1.548718</td>\n",
       "      <td>0.403034</td>\n",
       "      <td>-0.407193</td>\n",
       "      <td>0.095921</td>\n",
       "      <td>0.592941</td>\n",
       "      <td>-0.270533</td>\n",
       "      <td>0.817739</td>\n",
       "      <td>...</td>\n",
       "      <td>-0.009431</td>\n",
       "      <td>0.798278</td>\n",
       "      <td>-0.137458</td>\n",
       "      <td>0.141267</td>\n",
       "      <td>-0.206010</td>\n",
       "      <td>0.502292</td>\n",
       "      <td>0.219422</td>\n",
       "      <td>0.215153</td>\n",
       "      <td>69.99</td>\n",
       "      <td>0</td>\n",
       "    </tr>\n",
       "  </tbody>\n",
       "</table>\n",
       "<p>5 rows × 31 columns</p>\n",
       "</div>"
      ],
      "text/plain": [
       "   Time        V1        V2        V3        V4        V5        V6        V7  \\\n",
       "0     0 -1.359807 -0.072781  2.536347  1.378155 -0.338321  0.462388  0.239599   \n",
       "1     0  1.191857  0.266151  0.166480  0.448154  0.060018 -0.082361 -0.078803   \n",
       "2     1 -1.358354 -1.340163  1.773209  0.379780 -0.503198  1.800499  0.791461   \n",
       "3     1 -0.966272 -0.185226  1.792993 -0.863291 -0.010309  1.247203  0.237609   \n",
       "4     2 -1.158233  0.877737  1.548718  0.403034 -0.407193  0.095921  0.592941   \n",
       "\n",
       "         V8        V9  ...         V21       V22       V23       V24  \\\n",
       "0  0.098698  0.363787  ...   -0.018307  0.277838 -0.110474  0.066928   \n",
       "1  0.085102 -0.255425  ...   -0.225775 -0.638672  0.101288 -0.339846   \n",
       "2  0.247676 -1.514654  ...    0.247998  0.771679  0.909412 -0.689281   \n",
       "3  0.377436 -1.387024  ...   -0.108300  0.005274 -0.190321 -1.175575   \n",
       "4 -0.270533  0.817739  ...   -0.009431  0.798278 -0.137458  0.141267   \n",
       "\n",
       "        V25       V26       V27       V28  Amount  Class  \n",
       "0  0.128539 -0.189115  0.133558 -0.021053  149.62      0  \n",
       "1  0.167170  0.125895 -0.008983  0.014724    2.69      0  \n",
       "2 -0.327642 -0.139097 -0.055353 -0.059752  378.66      0  \n",
       "3  0.647376 -0.221929  0.062723  0.061458  123.50      0  \n",
       "4 -0.206010  0.502292  0.219422  0.215153   69.99      0  \n",
       "\n",
       "[5 rows x 31 columns]"
      ]
     },
     "execution_count": 2,
     "metadata": {},
     "output_type": "execute_result"
    }
   ],
   "source": [
    "df = pd.read_csv('creditcard.csv')\n",
    "df.head()"
   ]
  },
  {
   "cell_type": "code",
   "execution_count": 3,
   "metadata": {
    "collapsed": false
   },
   "outputs": [
    {
     "name": "stdout",
     "output_type": "stream",
     "text": [
      "The total number of transactions = 284807\n",
      "The total number of fraudulent transactions = 492\n",
      "The number of $0 transactions = 1825\n",
      "The number of $0 transactions which are fraudulent = 27\n",
      "The fraction of all transactions that are fraudulent = 0.173%\n",
      "The fraction of all 0$ transactions that are fraudulent = 1.479%\n",
      "\n",
      "A much higher % of 0$ transactions are fraudulent, compared with the general set. This could bepotentially interesting. However, given the very small number of fraudulent transactions, making inferencesis questionable.\n"
     ]
    }
   ],
   "source": [
    "from __future__ import division\n",
    "\n",
    "# Attempts to find any improper values:\n",
    "for c in df.columns:\n",
    "    \n",
    "    if df[c].loc[df[c].isnull()].count()>0:\n",
    "        print \"The number of null values in %s = %s\" %(c,df[c].loc[df[c].isnull()].count())\n",
    "        \n",
    "N_transactions = df['V1'].count()\n",
    "N_fraud = df['V1'].loc[df['Class']==1].count()\n",
    "N_zero_transactions = df['Amount'].loc[df['Amount']==0.].count()\n",
    "N_zero_fraud_transactions = df['Amount'].loc[(df['Amount']==0.) & (df['Class']==1)].count()\n",
    "\n",
    "print \"The total number of transactions = %s\" % N_transactions\n",
    "print \"The total number of fraudulent transactions = %s\" % N_fraud\n",
    "print \"The number of $0 transactions = %s\" % N_zero_transactions\n",
    "print \"The number of $0 transactions which are fraudulent = %s\" % N_zero_fraud_transactions\n",
    "\n",
    "print \"The fraction of all transactions that are fraudulent = %.3f%%\" % (100*N_fraud/N_transactions)\n",
    "print \"The fraction of all 0$ transactions that are fraudulent = %.3f%%\" % (100*N_zero_fraud_transactions/N_zero_transactions)\n",
    "\n",
    "print\n",
    "print \"A much higher % of 0$ transactions are fraudulent, compared with the general set. This could be\\\n",
    "potentially interesting. However, given the very small number of fraudulent transactions, making inferences\\\n",
    "is questionable.\""
   ]
  },
  {
   "cell_type": "code",
   "execution_count": 4,
   "metadata": {
    "collapsed": false
   },
   "outputs": [],
   "source": [
    "columns_no_class = list(df.columns)\n",
    "columns_no_class.remove('Class')\n",
    "\n",
    "df_clean = (df[columns_no_class]-df[columns_no_class].mean())/df[columns_no_class].std()\n",
    "df_clean = pd.concat((df_clean,df['Class']),axis=1)"
   ]
  },
  {
   "cell_type": "code",
   "execution_count": 5,
   "metadata": {
    "collapsed": false
   },
   "outputs": [],
   "source": [
    "# Split the dataframe into train and test sets\n",
    "# Do so in a manner which preserves the proportion of classes (so as not to bias the set)\n",
    "# First, split the class=0 indices\n",
    "C_0_train_index, C_0_test_index = train_test_split(df_clean.loc[df['Class']==0].index.values)\n",
    "# First, split the class=1 indices\n",
    "C_1_train_index, C_1_test_index = train_test_split(df_clean.loc[df['Class']==1].index.values)\n",
    "# Copy the data frames into a train and test version, based on the obtained indices\n",
    "df_train = df_clean.loc[np.concatenate((C_0_train_index,C_1_train_index))]\n",
    "df_test = df_clean.loc[np.concatenate((C_0_test_index,C_1_test_index))]\n",
    "\n",
    "df_train_X = df_train[columns_no_class]\n",
    "df_train_Y = df_train['Class']\n",
    "df_test_X = df_test[columns_no_class]\n",
    "df_test_Y = df_test['Class']"
   ]
  },
  {
   "cell_type": "code",
   "execution_count": 34,
   "metadata": {
    "collapsed": true
   },
   "outputs": [],
   "source": [
    "def model_selection(algorithm,train_X):\n",
    "    \n",
    "    KNN_params = {'n_neighbors':range(1,51),'weights':['uniform','distance'],'algorithm':['ball_tree','kd_tree'],\n",
    "             'leaf_size':range(15,46),'n_jobs':[-1]}\n",
    "    \n",
    "    random_forest_params = {'n_estimators':range(1,51),'criterion':['gini','entropy'],\n",
    "                            'max_features':np.linspace(1./float(train_X.shape[1]),1.,50),'max_depth':range(1,51),\n",
    "                            'class_weight':[None],'n_jobs':[-1]}\n",
    "    \n",
    "    logistic_regression_params = {'tol':10.**(np.linspace(-6,-2,10)),'C':10.**np.linspace(-3,1,10),\n",
    "                                 'solver':['newton-cg', 'lbfgs', 'liblinear', 'sag'],'n_jobs':[-1]}\n",
    "    \n",
    "    param_dicts = {'knn':KNN_params,'random_forest':random_forest_params,'log_reg':logistic_regression_params}\n",
    "    \n",
    "    algorithm_dict = {'knn':KNeighborsClassifier(),'random_forest':RandomForestClassifier(),\n",
    "                      'log_reg':LogisticRegression()}\n",
    "    \n",
    "    return algorithm_dict[algorithm], param_dicts[algorithm]    "
   ]
  },
  {
   "cell_type": "code",
   "execution_count": 31,
   "metadata": {
    "collapsed": false
   },
   "outputs": [],
   "source": [
    "def optimize_hyperparameters(algorithm,train_X,train_Y):\n",
    "    \n",
    "    algo, params = model_selection(algorithm,train_X)\n",
    "\n",
    "    grid_search = RandomizedSearchCV(algo,param_distributions=params,n_iter=10,scoring='recall',cv=2,error_score=0.)\n",
    "\n",
    "    grid_search.fit(train_X,train_Y)\n",
    "    \n",
    "    print \"The results for %s:\" %algorithm\n",
    "    print \"The hyperparameters which give the highest recall:\"\n",
    "    print grid_search.best_params_\n",
    "    print\n",
    "    print \"The best score = %s\" %grid_search.best_score_\n",
    "    \n",
    "    np.save('%s_optimized_hyperparams.npy'%algorithm,grid_search.best_params_)"
   ]
  },
  {
   "cell_type": "code",
   "execution_count": 32,
   "metadata": {
    "collapsed": true
   },
   "outputs": [],
   "source": [
    "def train_and_validate(algorithm,train_X,train_Y,test_X,test_Y,optimized_params):\n",
    "    \n",
    "    algo = model_selection(algorithm,train_X)[0]\n",
    "    \n",
    "    try:\n",
    "        \n",
    "        clf = algo.set_params(**optimized_params)\n",
    "        clf.fit(train_X,train_Y)\n",
    "        Y_pred = clf.predict(test_X)\n",
    "\n",
    "    except KeyError:\n",
    "        \n",
    "        print \"KeyError: algorithm selected has not been set up.\"\n",
    "        \n",
    "    print \"The precision using the best params = %s\" % precision_score(test_Y,Y_pred)\n",
    "    print\n",
    "    print \"The recall using the best params = %s\" % recall_score(test_Y,Y_pred)"
   ]
  },
  {
   "cell_type": "code",
   "execution_count": 8,
   "metadata": {
    "collapsed": true
   },
   "outputs": [],
   "source": [
    "def precision_times_recall(estimator,x_test,y_test,c=1):\n",
    "    \n",
    "    Y_pred = estimator.predict(x_test)\n",
    "    \n",
    "    precision = precision_score(y_test,Y_pred)\n",
    "    recall = recall_score(y_test,Y_pred)\n",
    "    \n",
    "    return precision*recall"
   ]
  },
  {
   "cell_type": "code",
   "execution_count": 33,
   "metadata": {
    "collapsed": false
   },
   "outputs": [
    {
     "name": "stdout",
     "output_type": "stream",
     "text": [
      "Recall for solver = newton-cg = 0.487804878049\n",
      "Amount of time to run = 0.987292051315\n",
      "\n",
      "Recall for solver = lbfgs = 0.487804878049\n",
      "Amount of time to run = 0.406782865524\n",
      "\n",
      "Recall for solver = liblinear = 0.487804878049\n",
      "Amount of time to run = 0.599906921387\n",
      "\n",
      "Recall for solver = sag = 0.479674796748\n",
      "Amount of time to run = 9.86556696892\n",
      "\n",
      "\n",
      "Optimized hyperparameters for random_forest loaded successfully:\n",
      "{'n_jobs': -1, 'n_estimators': 14, 'criterion': 'gini', 'max_features': 0.66938775510204085, 'max_depth': 7, 'class_weight': None}\n",
      "The precision using the best params = 0.906542056075\n",
      "\n",
      "The recall using the best params = 0.788617886179\n"
     ]
    }
   ],
   "source": [
    "if __name__ == '__main__':\n",
    "    \n",
    "    pca = PCA(n_components=10)\n",
    "    pca_train_X = pca.fit_transform(df_train_X,df_train_Y)\n",
    "    pca_test_X = pca.transform(df_test_X)\n",
    "    \n",
    "# Choose algorithm from ['random_forest', 'knn', 'log_reg']\n",
    "    algorithm = 'log_reg'\n",
    "    \n",
    "    algo, params = model_selection(algorithm,pca_train_X)\n",
    "    \n",
    "    param = 'solver'\n",
    "    for i in params[param]:\n",
    "        \n",
    "        start = time()\n",
    "        \n",
    "        clf = algo.set_params(**{param:i})\n",
    "        clf.fit(pca_train_X,df_train_Y)\n",
    "        Y_pred = clf.predict(pca_test_X)\n",
    "        \n",
    "        print \"Recall for %s = %s = %s\" %(param,i,recall_score(df_test_Y,Y_pred))\n",
    "        print \"Amount of time to run = %s\" %(time()-start)\n",
    "        print\n",
    "        \n",
    "    \n",
    "    algorithm = 'random_forest'\n",
    "    \n",
    "    try:\n",
    "        \n",
    "        optimized_params = np.load('%s_optimized_hyperparams.npy'%algorithm).item()\n",
    "        print\n",
    "        print \"Optimized hyperparameters for %s loaded successfully:\" %algorithm\n",
    "        print optimized_params\n",
    "        \n",
    "    except:\n",
    "        \n",
    "        print\n",
    "        print \"Need to obtain optimized hyperparameters for %s.\" %algorithm\n",
    "        optimize_hyperparameters(algorithm,pca_train_X,df_train_Y)\n",
    "        optimized_params = np.load('%s_optimized_hyperparams.npy'%algorithm).item()\n",
    "        \n",
    "    train_and_validate(algorithm,pca_train_X,df_train_Y,pca_test_X,df_test_Y,optimized_params)"
   ]
  },
  {
   "cell_type": "code",
   "execution_count": null,
   "metadata": {
    "collapsed": true
   },
   "outputs": [],
   "source": []
  },
  {
   "cell_type": "code",
   "execution_count": 16,
   "metadata": {
    "collapsed": false
   },
   "outputs": [
    {
     "name": "stdout",
     "output_type": "stream",
     "text": [
      "Run with 1 trees is done.\n",
      "Run with 2 trees is done.\n",
      "Run with 3 trees is done.\n",
      "Run with 4 trees is done.\n",
      "Run with 5 trees is done.\n",
      "Run with 6 trees is done.\n",
      "Run with 7 trees is done.\n",
      "Run with 8 trees is done.\n",
      "Run with 9 trees is done.\n",
      "Run with 10 trees is done.\n",
      "Run with 11 trees is done.\n",
      "Run with 12 trees is done.\n",
      "Run with 13 trees is done.\n",
      "Run with 14 trees is done.\n",
      "Run with 15 trees is done.\n",
      "Run with 16 trees is done.\n",
      "Run with 17 trees is done.\n",
      "Run with 18 trees is done.\n",
      "Run with 19 trees is done.\n",
      "Run with 20 trees is done.\n",
      "Run with 21 trees is done.\n",
      "Run with 22 trees is done.\n",
      "Run with 23 trees is done.\n",
      "Run with 24 trees is done.\n",
      "Run with 25 trees is done.\n",
      "Run with 26 trees is done.\n",
      "Run with 27 trees is done.\n",
      "Run with 28 trees is done.\n",
      "Run with 29 trees is done.\n",
      "Run with 30 trees is done.\n"
     ]
    }
   ],
   "source": [
    "# Test the effect of n_estimators on precision and recall\n",
    "precision = []\n",
    "recall = []\n",
    "for i in range(1,31):\n",
    "    clf = RandomForestClassifier(n_estimators=i,criterion='entropy',max_features='auto',\n",
    "                                 class_weight={0:float(len(df_train_Y[df_train_Y==0]))/float(len(df_train_Y)),\n",
    "                                              1:float(len(df_train_Y[df_train_Y==1]))/float(len(df_train_Y))})\n",
    "    clf.fit(df_train_X,df_train_Y)\n",
    "    Y_pred = clf.predict(df_test_X)\n",
    "\n",
    "    P_R = precision_recall(df_test_Y,Y_pred,0)\n",
    "    \n",
    "    precision.append(P_R[0])\n",
    "    recall.append(P_R[1])\n",
    "    \n",
    "    print \"Run with %s trees is done.\" %i\n",
    "    \n",
    "#    print \"Number of trees = %s\" %i\n",
    "#    print \"The precision = %s\" %precision\n",
    "#    print \"The recall = %s\" %recall\n",
    "#    print \"The score with %s trees = %s\" %(i,clf.score(df_test_X,df_test_Y))"
   ]
  },
  {
   "cell_type": "code",
   "execution_count": 14,
   "metadata": {
    "collapsed": false
   },
   "outputs": [
    {
     "data": {
      "image/png": "[encoded data removed]",
      "text/plain": [
       "<matplotlib.figure.Figure at 0x10eab3990>"
      ]
     },
     "metadata": {},
     "output_type": "display_data"
    }
   ],
   "source": [
    "plt.plot(range(1,31),precision[0],marker='o',color='k')\n",
    "plt.plot(range(1,31),recall[0],marker='o',color='r')\n",
    "\n",
    "plt.plot(range(1,31),precision[1],marker='|',color='k')\n",
    "plt.plot(range(1,31),recall[1],marker='|',color='r')\n",
    "\n",
    "plt.show()"
   ]
  },
  {
   "cell_type": "code",
   "execution_count": 17,
   "metadata": {
    "collapsed": false
   },
   "outputs": [
    {
     "data": {
      "image/png": "[encoded data removed]",
      "text/plain": [
       "<matplotlib.figure.Figure at 0x111933690>"
      ]
     },
     "metadata": {},
     "output_type": "display_data"
    }
   ],
   "source": [
    "plt.plot(range(1,31),precision[0],marker='o',color='k')\n",
    "plt.plot(range(1,31),recall[0],marker='o',color='r')\n",
    "\n",
    "plt.plot(range(1,31),precision[1],marker='|',color='k')\n",
    "plt.plot(range(1,31),recall[1],marker='|',color='r')\n",
    "\n",
    "plt.show()"
   ]
  },
  {
   "cell_type": "code",
   "execution_count": 28,
   "metadata": {
    "collapsed": false
   },
   "outputs": [
    {
     "name": "stdout",
     "output_type": "stream",
     "text": [
      "The hyperparameters which give the highest recall:\n",
      "{'n_jobs': -1, 'n_estimators': 26, 'criterion': 'gini', 'max_features': 0.30952380952380953, 'max_depth': 3, 'class_weight': {0: 0.0017274876524425926, 1: 0.9982725123475574}}\n",
      "\n",
      "The best estimator chosen:\n",
      "RandomForestClassifier(bootstrap=True,\n",
      "            class_weight={0: 0.0017274876524425926, 1: 0.9982725123475574},\n",
      "            criterion='gini', max_depth=3,\n",
      "            max_features=0.30952380952380953, max_leaf_nodes=None,\n",
      "            min_impurity_split=1e-07, min_samples_leaf=1,\n",
      "            min_samples_split=2, min_weight_fraction_leaf=0.0,\n",
      "            n_estimators=26, n_jobs=-1, oob_score=False, random_state=None,\n",
      "            verbose=0, warm_start=False)\n",
      "\n",
      "The best score chosen:\n",
      "0.864526977997\n"
     ]
    }
   ],
   "source": [
    "# Perform a randomized grid search for the hyperparameters which result in the highest recall,\n",
    "# using RandomForestClassifier\n",
    "random_forest_params = dict(zip(['n_estimators','criterion','max_features','max_depth','class_weight','n_jobs'],\n",
    "                               [range(1,51),['gini','entropy'],np.linspace(1./float(df_train_X.shape[1]),1.,50),\n",
    "                                range(1,51),[None,{0:float(len(df_train_Y[df_train_Y==0]))/float(len(df_train_Y)),\n",
    "                                              1:float(len(df_train_Y[df_train_Y==1]))/float(len(df_train_Y))},\n",
    "                                            {1:float(len(df_train_Y[df_train_Y==0]))/float(len(df_train_Y)),\n",
    "                                              0:float(len(df_train_Y[df_train_Y==1]))/float(len(df_train_Y))}],[-1]]))\n",
    "\n",
    "grid_search = RandomizedSearchCV(RandomForestClassifier(),param_distributions=random_forest_params,n_iter=100,\n",
    "                                scoring='recall',cv=2)\n",
    "\n",
    "grid_search.fit(df_train_X,df_train_Y)\n",
    "\n",
    "print \"The hyperparameters which give the highest recall:\"\n",
    "print grid_search.best_params_\n",
    "print\n",
    "print \"The best score chosen:\"\n",
    "print grid_search.best_score_\n"
   ]
  },
  {
   "cell_type": "code",
   "execution_count": 38,
   "metadata": {
    "collapsed": false,
    "scrolled": true
   },
   "outputs": [
    {
     "name": "stdout",
     "output_type": "stream",
     "text": [
      "The hyperparameters which give the highest recall:\n",
      "{'n_jobs': -1, 'n_estimators': 35, 'criterion': 'gini', 'max_features': 0.54625850340136062, 'max_depth': 27, 'class_weight': None}\n",
      "\n",
      "The best score chosen:\n",
      "0.723893444109\n",
      "\n",
      "The precision using the best params = 0.95145631068\n",
      "\n",
      "The recall using the best params = 0.79674796748\n"
     ]
    }
   ],
   "source": [
    "# Perform a randomized grid search for the hyperparameters which result in the highest recall*precision,\n",
    "# using RandomForestClassifier\n",
    "random_forest_params = dict(zip(['n_estimators','criterion','max_features','max_depth','class_weight','n_jobs'],\n",
    "                               [range(1,51),['gini','entropy'],np.linspace(1./float(df_train_X.shape[1]),1.,50),\n",
    "                                range(1,51),[None],[-1]]))\n",
    "\n",
    "grid_search = RandomizedSearchCV(RandomForestClassifier(),param_distributions=random_forest_params,n_iter=100,\n",
    "                                scoring=precision_times_recall,cv=2)\n",
    "\n",
    "grid_search.fit(df_train_X,df_train_Y)\n",
    "\n",
    "print \"The hyperparameters which give the highest recall:\"\n",
    "print grid_search.best_params_\n",
    "print\n",
    "print \"The best score chosen:\"\n",
    "print grid_search.best_score_\n",
    "\n",
    "clf = RandomForestClassifier().set_params(**grid_search.best_params_)\n",
    "clf.fit(df_train_X,df_train_Y)\n",
    "Y_pred = clf.predict(df_test_X)\n",
    "\n",
    "print\n",
    "print \"The precision using the best params = %s\" % precision_score(df_test_Y,Y_pred)\n",
    "print\n",
    "print \"The recall using the best params = %s\" % recall_score(df_test_Y,Y_pred)"
   ]
  },
  {
   "cell_type": "code",
   "execution_count": 46,
   "metadata": {
    "collapsed": false
   },
   "outputs": [
    {
     "name": "stdout",
     "output_type": "stream",
     "text": [
      "Precision = 0.95\n",
      "\n",
      "Recall = 0.772357723577\n",
      "IT took 752.680958986 seconds\n"
     ]
    }
   ],
   "source": [
    "knn = KNeighborsClassifier()\n",
    "knn.fit(df_train_X,df_train_Y)\n",
    "Y_pred = knn.predict(df_test_X)\n",
    "\n",
    "print \"Precision = %s\" % precision_score(df_test_Y,Y_pred)\n",
    "print\n",
    "print \"Recall = %s\" % recall_score(df_test_Y,Y_pred)"
   ]
  },
  {
   "cell_type": "code",
   "execution_count": 48,
   "metadata": {
    "collapsed": false
   },
   "outputs": [
    {
     "name": "stdout",
     "output_type": "stream",
     "text": [
      "Precision = 0.958762886598\n",
      "\n",
      "Recall = 0.756097560976\n",
      "IT took 55.0104951859 seconds\n"
     ]
    }
   ],
   "source": [
    "pca = PCA(n_components=10)\n",
    "\n",
    "knn_train_X = pca.fit_transform(df_train_X,df_train_Y)\n",
    "\n",
    "knn_test_X = pca.transform(df_test_X)\n",
    "\n",
    "knn = KNeighborsClassifier()\n",
    "knn.fit(knn_train_X,df_train_Y)\n",
    "Y_pred = knn.predict(knn_test_X)\n",
    "\n",
    "print \"Precision = %s\" % precision_score(df_test_Y,Y_pred)\n",
    "print\n",
    "print \"Recall = %s\" % recall_score(df_test_Y,Y_pred)\n",
    "\n"
   ]
  },
  {
   "cell_type": "code",
   "execution_count": null,
   "metadata": {
    "collapsed": false
   },
   "outputs": [],
   "source": [
    "KNN_params = {'n_neighbors':range(1,51),'weights':['uniform','distance'],'algorithm':['ball_tree','kd_tree'],\n",
    "             'leaf_size':range(15,46),'n_jobs':[-1]}\n",
    "\n",
    "pca = PCA(n_components=10)\n",
    "knn_train_X = pca.fit_transform(df_train_X,df_train_Y)\n",
    "knn_test_X = pca.transform(df_test_X)\n",
    "\n",
    "grid_search = RandomizedSearchCV(KNeighborsClassifier(),param_distributions=KNN_params,n_iter=100,\n",
    "                                 scoring=precision_times_recall,cv=2)\n",
    "\n",
    "grid_search.fit(knn_train_X,df_train_Y)\n",
    "\n",
    "print \"The hyperparameters which give the highest recall:\"\n",
    "print grid_search.best_params_\n",
    "print\n",
    "print \"The best score = %s\" %grid_search.best_score_\n",
    "\n",
    "clf = KNeighborsClassifier().set_params(**grid_search.best_params_)\n",
    "clf.fit(knn_train_X,df_train_Y)\n",
    "Y_pred = clf.predict(knn_test_X)\n",
    "\n",
    "print\n",
    "print \"The precision using the best params = %s\" % precision_score(df_test_Y,Y_pred)\n",
    "print\n",
    "print \"The recall using the best params = %s\" % recall_score(df_test_Y,Y_pred)"
   ]
  },
  {
   "cell_type": "code",
   "execution_count": 87,
   "metadata": {
    "collapsed": true
   },
   "outputs": [],
   "source": []
  },
  {
   "cell_type": "code",
   "execution_count": 85,
   "metadata": {
    "collapsed": true
   },
   "outputs": [],
   "source": []
  },
  {
   "cell_type": "code",
   "execution_count": 20,
   "metadata": {
    "collapsed": true
   },
   "outputs": [],
   "source": []
  },
  {
   "cell_type": "code",
   "execution_count": null,
   "metadata": {
    "collapsed": false
   },
   "outputs": [
    {
     "name": "stdout",
     "output_type": "stream",
     "text": [
      "\n",
      "Need to obtain optimized hyperparameters for log_reg.\n"
     ]
    },
    {
     "name": "stderr",
     "output_type": "stream",
     "text": [
      "/Users/yevgenikissin/anaconda/lib/python2.7/site-packages/sklearn/linear_model/sag.py:286: ConvergenceWarning: The max_iter was reached which means the coef_ did not converge\n",
      "  \"the coef_ did not converge\", ConvergenceWarning)\n"
     ]
    }
   ],
   "source": []
  },
  {
   "cell_type": "code",
   "execution_count": 52,
   "metadata": {
    "collapsed": false
   },
   "outputs": [
    {
     "name": "stdout",
     "output_type": "stream",
     "text": [
      "Precision = 0.947916666667\n",
      "\n",
      "Recall = 0.739837398374\n",
      "IT took 31.4692268372 seconds\n"
     ]
    }
   ],
   "source": [
    "\n",
    "knn_train_X = df_train_X[df_train_X.columns[1:12]].copy()\n",
    "knn_test_X = df_test_X[df_train_X.columns[1:12]].copy()\n",
    "\n",
    "start = time()\n",
    "\n",
    "knn = KNeighborsClassifier()\n",
    "knn.fit(knn_train_X,df_train_Y)\n",
    "Y_pred = knn.predict(knn_test_X)\n",
    "\n",
    "print \"Precision = %s\" % precision_score(df_test_Y,Y_pred)\n",
    "print\n",
    "print \"Recall = %s\" % recall_score(df_test_Y,Y_pred)\n",
    "\n",
    "print \"IT took %s seconds\" %(time()-start) "
   ]
  },
  {
   "cell_type": "code",
   "execution_count": 122,
   "metadata": {
    "collapsed": false
   },
   "outputs": [
    {
     "ename": "ValueError",
     "evalue": "The truth value of a Series is ambiguous. Use a.empty, a.bool(), a.item(), a.any() or a.all().",
     "output_type": "error",
     "traceback": [
      "\u001b[0;31m---------------------------------------------------------------------------\u001b[0m",
      "\u001b[0;31mValueError\u001b[0m                                Traceback (most recent call last)",
      "\u001b[0;32m<ipython-input-122-47b46c96d211>\u001b[0m in \u001b[0;36m<module>\u001b[0;34m()\u001b[0m\n\u001b[1;32m      3\u001b[0m \u001b[0my_pred\u001b[0m \u001b[0;34m=\u001b[0m \u001b[0mclf\u001b[0m\u001b[0;34m.\u001b[0m\u001b[0mpredict\u001b[0m\u001b[0;34m(\u001b[0m\u001b[0mdf_test_X\u001b[0m\u001b[0;34m)\u001b[0m\u001b[0;34m\u001b[0m\u001b[0m\n\u001b[1;32m      4\u001b[0m \u001b[0;34m\u001b[0m\u001b[0m\n\u001b[0;32m----> 5\u001b[0;31m \u001b[0mprecision_recall\u001b[0m\u001b[0;34m(\u001b[0m\u001b[0mdf_test_Y\u001b[0m\u001b[0;34m,\u001b[0m\u001b[0my_pred\u001b[0m\u001b[0;34m,\u001b[0m\u001b[0;36m1\u001b[0m\u001b[0;34m)\u001b[0m\u001b[0;34m\u001b[0m\u001b[0m\n\u001b[0m\u001b[1;32m      6\u001b[0m \u001b[0;34m\u001b[0m\u001b[0m\n\u001b[1;32m      7\u001b[0m \u001b[0mfeature_importance\u001b[0m \u001b[0;34m=\u001b[0m \u001b[0mzip\u001b[0m\u001b[0;34m(\u001b[0m\u001b[0mdf_train\u001b[0m\u001b[0;34m.\u001b[0m\u001b[0mcolumns\u001b[0m\u001b[0;34m,\u001b[0m\u001b[0mclf\u001b[0m\u001b[0;34m.\u001b[0m\u001b[0mfeature_importances_\u001b[0m\u001b[0;34m)\u001b[0m\u001b[0;34m\u001b[0m\u001b[0m\n",
      "\u001b[0;32m<ipython-input-120-f4432ae17121>\u001b[0m in \u001b[0;36mprecision_recall\u001b[0;34m(y_test, y_pred, c)\u001b[0m\n\u001b[1;32m      4\u001b[0m     \u001b[0my_pred_is_c\u001b[0m \u001b[0;34m=\u001b[0m \u001b[0my_pred\u001b[0m\u001b[0;34m==\u001b[0m\u001b[0mc\u001b[0m\u001b[0;34m\u001b[0m\u001b[0m\n\u001b[1;32m      5\u001b[0m \u001b[0;34m\u001b[0m\u001b[0m\n\u001b[0;32m----> 6\u001b[0;31m     \u001b[0;32mprint\u001b[0m \u001b[0;34m\"Precision = %s\"\u001b[0m \u001b[0;34m%\u001b[0m \u001b[0;34m(\u001b[0m\u001b[0my_test\u001b[0m\u001b[0;34m[\u001b[0m\u001b[0my_test_is_c\u001b[0m\u001b[0;34m==\u001b[0m\u001b[0mTrue\u001b[0m\u001b[0;34m&\u001b[0m\u001b[0my_pred_is_c\u001b[0m\u001b[0;34m==\u001b[0m\u001b[0mTrue\u001b[0m\u001b[0;34m]\u001b[0m\u001b[0;34m)\u001b[0m\u001b[0;34m\u001b[0m\u001b[0m\n\u001b[0m",
      "\u001b[0;32m/Users/yevgenikissin/anaconda/lib/python2.7/site-packages/pandas/core/generic.pyc\u001b[0m in \u001b[0;36m__nonzero__\u001b[0;34m(self)\u001b[0m\n\u001b[1;32m    729\u001b[0m         raise ValueError(\"The truth value of a {0} is ambiguous. \"\n\u001b[1;32m    730\u001b[0m                          \u001b[0;34m\"Use a.empty, a.bool(), a.item(), a.any() or a.all().\"\u001b[0m\u001b[0;34m\u001b[0m\u001b[0m\n\u001b[0;32m--> 731\u001b[0;31m                          .format(self.__class__.__name__))\n\u001b[0m\u001b[1;32m    732\u001b[0m \u001b[0;34m\u001b[0m\u001b[0m\n\u001b[1;32m    733\u001b[0m     \u001b[0m__bool__\u001b[0m \u001b[0;34m=\u001b[0m \u001b[0m__nonzero__\u001b[0m\u001b[0;34m\u001b[0m\u001b[0m\n",
      "\u001b[0;31mValueError\u001b[0m: The truth value of a Series is ambiguous. Use a.empty, a.bool(), a.item(), a.any() or a.all()."
     ]
    }
   ],
   "source": [
    "clf = RandomForestClassifier(n_estimators=10,criterion='entropy',max_features='auto')\n",
    "clf.fit(df_train_X,df_train_Y)\n",
    "Y_pred = clf.predict(df_test_X)\n",
    "\n",
    "precision_recall(df_test_Y,Y_pred,1)\n",
    "\n",
    "feature_importance = zip(df_train.columns,clf.feature_importances_)\n",
    "feature_importance = sorted(feature_importance,key=lambda x: x[1], reverse=True)\n",
    "feature_names = zip(*feature_importance)[0]\n",
    "print \"The 3 dominant features are = %s, %s, and %s\" %(feature_names[0],feature_names[1],feature_names[2])"
   ]
  },
  {
   "cell_type": "code",
   "execution_count": 25,
   "metadata": {
    "collapsed": false
   },
   "outputs": [
    {
     "name": "stdout",
     "output_type": "stream",
     "text": [
      "The precision according to my calculation = 0.948453608247\n",
      "The recall according to my calculation = 0.747967479675\n",
      "\n",
      "The precision according to sklearn calculation = 0.948453608247\n",
      "The recall according to sklearn calculation = 0.747967479675\n",
      "The precision according to my calculation = 0.949494949495\n",
      "The recall according to my calculation = 0.764227642276\n",
      "\n",
      "The precision according to sklearn calculation = 0.949494949495\n",
      "The recall according to sklearn calculation = 0.764227642276\n",
      "The precision according to my calculation = 0.967741935484\n",
      "The recall according to my calculation = 0.731707317073\n",
      "\n",
      "The precision according to sklearn calculation = 0.967741935484\n",
      "The recall according to sklearn calculation = 0.731707317073\n"
     ]
    }
   ],
   "source": [
    "clf = RandomForestClassifier(n_estimators=5,criterion='entropy',max_features='auto',\n",
    "                                 class_weight={0:float(len(df_train_Y[df_train_Y==0]))/float(len(df_train_Y)),\n",
    "                                              1:float(len(df_train_Y[df_train_Y==1]))/float(len(df_train_Y))})\n",
    "clf.fit(df_train_X,df_train_Y)\n",
    "Y_pred = clf.predict(df_test_X)\n",
    "\n",
    "P_R = precision_recall(df_test_Y,Y_pred,1)\n",
    "\n",
    "print \"The precision according to my calculation = %s\" %P_R[0]\n",
    "print \"The recall according to my calculation = %s\" %P_R[1]\n",
    "print\n",
    "print \"The precision according to sklearn calculation = %s\" % precision_score(df_test_Y,Y_pred)\n",
    "print \"The recall according to sklearn calculation = %s\" %recall_score(df_test_Y,Y_pred)"
   ]
  },
  {
   "cell_type": "code",
   "execution_count": 111,
   "metadata": {
    "collapsed": false
   },
   "outputs": [
    {
     "name": "stdout",
     "output_type": "stream",
     "text": [
      "0.999508440774\n",
      "0.998398921379\n"
     ]
    }
   ],
   "source": []
  },
  {
   "cell_type": "code",
   "execution_count": 19,
   "metadata": {
    "collapsed": false
   },
   "outputs": [
    {
     "name": "stdout",
     "output_type": "stream",
     "text": [
      "Naive Bayes:\n",
      "The precision = 0.0637645616186\n",
      "The recall = 0.845528455285\n",
      "Naive Bayes:\n",
      "The precision = 0.0637645616186\n",
      "The recall = 0.845528455285\n",
      "The number of predicted fraud cases = 1631\n",
      "The number of actual fraud cases = 123\n"
     ]
    }
   ],
   "source": [
    "clf_bayes = GaussianNB()\n",
    "clf_bayes.fit(df_train_X,df_train_Y)\n",
    "Y_pred = clf_bayes.predict(df_test_X)\n",
    "\n",
    "P_R = precision_recall(df_test_Y,Y_pred,1)\n",
    "\n",
    "print \"Naive Bayes:\"\n",
    "print \"The precision = %s\" % P_R[0]\n",
    "print \"The recall = %s\" % P_R[1]\n",
    "\n",
    "prior = [float(len(df_train_Y[df_train_Y==0]))/float(len(df_train_Y)),\n",
    "         float(len(df_train_Y[df_train_Y==1]))/float(len(df_train_Y))]\n",
    "\n",
    "clf_bayes = GaussianNB(prior)\n",
    "clf_bayes.fit(df_train_X,df_train_Y)\n",
    "Y_pred = clf_bayes.predict(df_test_X)\n",
    "\n",
    "P_R = precision_recall(df_test_Y,Y_pred,1)\n",
    "\n",
    "print \"Naive Bayes:\"\n",
    "print \"The precision = %s\" % P_R[0]\n",
    "print \"The recall = %s\" % P_R[1]\n",
    "\n",
    "print \"The number of predicted fraud cases = %s\" % len(Y_pred[Y_pred==1])\n",
    "print \"The number of actual fraud cases = %s\" % len(df_test_Y[df_test_Y==1])"
   ]
  },
  {
   "cell_type": "code",
   "execution_count": 95,
   "metadata": {
    "collapsed": false
   },
   "outputs": [
    {
     "name": "stdout",
     "output_type": "stream",
     "text": [
      "[('V17', 0.16995329574024545), ('V11', 0.1270129304294387), ('V14', 0.12409809809914432), ('V10', 0.12046467782453725), ('V12', 0.084706073904392526), ('V4', 0.074360756466227335), ('V7', 0.04078441260086433), ('V3', 0.025478560126986859), ('V2', 0.023805335802521557), ('V16', 0.017455024156609988), ('V1', 0.017234412866801448), ('V18', 0.015157055972968566), ('V26', 0.011984614118157993), ('V19', 0.011610333006659816), ('V6', 0.011155835620898662), ('V8', 0.011100711602187506), ('Amount', 0.011009727909587938), ('V20', 0.010922177040988456), ('V27', 0.010245667175239415), ('V9', 0.0097621538300886705), ('V28', 0.0094958023285274338), ('V15', 0.0090106492053403306), ('V21', 0.0088768340149149531), ('Time', 0.0078011102741095562), ('V22', 0.0077289083829639362), ('V5', 0.0073153029627284882), ('V24', 0.0060454794371867559), ('V23', 0.0052670661607764294), ('V13', 0.005194553586498632), ('V25', 0.0049624393524066758)]\n",
      "\n",
      "\n",
      "[('V17', 0.16995329574024545), ('V11', 0.1270129304294387), ('V14', 0.12409809809914432), ('V10', 0.12046467782453725), ('V12', 0.084706073904392526), ('V4', 0.074360756466227335), ('V7', 0.04078441260086433), ('V3', 0.025478560126986859), ('V2', 0.023805335802521557), ('V16', 0.017455024156609988), ('V1', 0.017234412866801448), ('V18', 0.015157055972968566), ('V26', 0.011984614118157993), ('V19', 0.011610333006659816), ('V6', 0.011155835620898662), ('V8', 0.011100711602187506), ('Amount', 0.011009727909587938), ('V20', 0.010922177040988456), ('V27', 0.010245667175239415), ('V9', 0.0097621538300886705), ('V28', 0.0094958023285274338), ('V15', 0.0090106492053403306), ('V21', 0.0088768340149149531), ('Time', 0.0078011102741095562), ('V22', 0.0077289083829639362), ('V5', 0.0073153029627284882), ('V24', 0.0060454794371867559), ('V23', 0.0052670661607764294), ('V13', 0.005194553586498632), ('V25', 0.0049624393524066758)]\n",
      "('V17', 'V11', 'V14', 'V10', 'V12', 'V4', 'V7', 'V3', 'V2', 'V16', 'V1', 'V18', 'V26', 'V19', 'V6', 'V8', 'Amount', 'V20', 'V27', 'V9', 'V28', 'V15', 'V21', 'Time', 'V22', 'V5', 'V24', 'V23', 'V13', 'V25')\n"
     ]
    }
   ],
   "source": []
  },
  {
   "cell_type": "code",
   "execution_count": 19,
   "metadata": {
    "collapsed": false
   },
   "outputs": [],
   "source": []
  },
  {
   "cell_type": "code",
   "execution_count": 156,
   "metadata": {
    "collapsed": false
   },
   "outputs": [],
   "source": [
    "def P_times_R_slow_version(estimator,x_test,y_test,c=1):\n",
    "    \n",
    "    Y_pred = estimator.predict(x_test)\n",
    "    \n",
    "    true_pos = 0.\n",
    "    false_pos = 0.\n",
    "    true_neg = 0.\n",
    "    false_neg = 0.\n",
    "    \n",
    "    y_test = np.asarray(y_test)\n",
    "    \n",
    "    for i in range(y_test.shape[0]):\n",
    "        \n",
    "        if (y_test[i]==c and Y_pred[i]==c):\n",
    "            true_pos += 1.\n",
    "        elif (y_test[i]==c and Y_pred[i]!=c):\n",
    "            false_neg += 1.\n",
    "        elif (y_test[i]!=c and Y_pred[i]==c):\n",
    "            false_pos += 1.\n",
    "        elif (y_test[i]!=c and Y_pred[i]!=c):\n",
    "            true_neg += 1.\n",
    "\n",
    "\n",
    "    #print \"Total number of samples = %s\" %y_test.shape\n",
    "    #print \"Total number of true_pos = %s\" %true_pos\n",
    "    #print \"Total number of false_pos = %s\" %false_pos\n",
    "    #print \"Total number of true_neg = %s\" %true_neg\n",
    "    #print \"Total number of false_neg = %s\" %false_neg\n",
    "\n",
    "    \n",
    "    #print \"Precision = %s\" % (true_pos/(false_pos+true_pos))\n",
    "    #print \"Recall = %s\" % (true_pos/(false_neg+true_pos))\n",
    "    \n",
    "    return true_pos**2./((false_neg+true_pos)*(false_pos+true_pos))\n"
   ]
  },
  {
   "cell_type": "code",
   "execution_count": null,
   "metadata": {
    "collapsed": true
   },
   "outputs": [],
   "source": []
  }
 ],
 "metadata": {
  "kernelspec": {
   "display_name": "Python 2",
   "language": "python",
   "name": "python2"
  },
  "language_info": {
   "codemirror_mode": {
    "name": "ipython",
    "version": 2
   },
   "file_extension": ".py",
   "mimetype": "text/x-python",
   "name": "python",
   "nbconvert_exporter": "python",
   "pygments_lexer": "ipython2",
   "version": "2.7.13"
  }
 },
 "nbformat": 4,
 "nbformat_minor": 0
}
